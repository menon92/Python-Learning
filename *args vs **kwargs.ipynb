{
 "cells": [
  {
   "cell_type": "markdown",
   "metadata": {},
   "source": [
    "# পাইথনে  ফাংশন আর্গুমেন্ট \\*args ও \\*\\*kwargs\n",
    "---\n",
    "আমরা মাঝে মাঝেই পাইথনের ফাংশনের প্যারামিটার হিসাবে \\*args, \\*\\* kwargs কে দেখতে পাই । তো এগুলো আসলে কি ? এবং এগুলো কিভাবে কাজ করে ? \n",
    "\n",
    "এই দুইটা বুঝতে হলে প্রথমে আমাদের আর্গুমেন্ট কি সেটা বুঝতে হবে । \n",
    "\n",
    "### আর্গুমেন্ট\n",
    "কোন ফাংশন কল করার সময় আমার ফাংশনে যে ভেলু pass করি করি সেটা কে বলা হয় আর্গুমেন্ট । পাইথনে দুই ধরনের আর্গুমেন্ট আছে, \n",
    "\n",
    "  1. ** Keyword Argument. **\n",
    "  2. ** Positional Argument. **\n",
    "\n",
    "### Keyword Argument \n",
    "---\n",
    "যে সকল আর্গুমেন্টের সাথে তার আইডেন্টিফায়ার থাকে সেসব আর্গুমেন্ট কে keyword argument বলে । উদাহরণ দিলে পরিষ্কার হয়ে যাবে।  মনে করেন আমাদের এইরকম একটা ফাংশন আছে, "
   ]
  },
  {
   "cell_type": "code",
   "execution_count": 43,
   "metadata": {},
   "outputs": [
    {
     "name": "stdout",
     "output_type": "stream",
     "text": [
      "Name: Arif\n",
      "Age:  24\n"
     ]
    }
   ],
   "source": [
    "def get_info(name = None, age = '21'):\n",
    "    return name, age;\n",
    "\n",
    "name, age = get_info(name = \"Arif\", age = 24)\n",
    "\n",
    "print(\"Name:\", name)\n",
    "print(\"Age: \", age)"
   ]
  },
  {
   "cell_type": "markdown",
   "metadata": {},
   "source": [
    "উপরে আমরা ৪ নং লাইনে ফাংশন কল করার সময় যে দুইটা আর্গুমেন্ট pass করলাম সেটাকে বলা হয় keyword argument. এখানে name = 'Arif' এ name এবং age = 24 এর age আর্গুমেন্ট দুইটির আইডেন্টিফায়ার । কারণ name, age দিয়ে আমরা আলাদা ভাবে দুইটা আর্গুমেন্টকে আইডেন্টিফাই করতে পারছি । \n",
    "\n"
   ]
  },
  {
   "cell_type": "markdown",
   "metadata": {},
   "source": [
    "### Positional Argument\n",
    "---\n",
    "\n",
    "যে আর্গুমেন্ট গুলো keyword argument না সেগুলো কে positional argument বলে । এই ধরনের আর্গুমেন্টের কোন আইডেন্টিফায়ার থাকে না । উদাহরণ, "
   ]
  },
  {
   "cell_type": "code",
   "execution_count": 44,
   "metadata": {},
   "outputs": [
    {
     "name": "stdout",
     "output_type": "stream",
     "text": [
      "Name: Arif\n",
      "Age:  24\n"
     ]
    }
   ],
   "source": [
    "def get_info(name, age):\n",
    "    return name, age;\n",
    "\n",
    "name, age = get_info(\"Arif\", 24)\n",
    "\n",
    "print(\"Name:\", name)\n",
    "print(\"Age: \", age)"
   ]
  },
  {
   "cell_type": "markdown",
   "metadata": {},
   "source": [
    "লক্ষণ করেন, এখানে আর্গুমেন্ট কে আইডেন্টিফাই করার জন্য কোন নাম সেট করা হয় নি । শুধু আর্গুমেন্টের ভেলু পাঠানো হয়েছে । এই ধরনের আর্গুমেন্টকে positional argument বলা হয় । "
   ]
  },
  {
   "cell_type": "markdown",
   "metadata": {},
   "source": [
    "এখন আমরা \\*arags, \\*\\*kwargs ব্যাখ্যা করব । প্রথমেই বলে রাখি আমার args, kwargs এর পরিবর্তে যেকোনো নাম ব্যবহার করতে পারি । এখানে শুধু \\* (astric char) টা গুরুত্বপূর্ণ । আপনি ইচ্ছা করলে \\*variable, \\*\\*variables ব্যবহার করতে পারেন । \\*arags, \\*\\*kwargs এটা হল নামকরনের রীতিনীতি । প্রোগ্রামিং এর ভাষায় যাকে বলে naming convension.  \\*arags এবং  \\*\\*kwargs ফাংশনের ডেফিনেসনে ব্যবহার করা হয় । \n",
    "\n",
    "মনে করেন আপনার এমন একটা ফাংশন দরকার সেটা তে আপনি যেকোনো সংখ্যক আর্গুমেন্ট pass করতে পারেন অর্থাৎ A function that acceptes variable lenght argument । এই ধরনের ফাংশন লিখতে গেলে আপনাকে \\*arags, \\*\\*kwargs ব্যবহার করতে হবে ।  \n",
    "\n",
    "\n",
    "### \\*args এর ব্যবহার\n",
    "---\n",
    "আপনার ফাংশনের আর্গুমেন্ট গুলো যদি non keyword আর্গুমেন্ট অর্থাৎ positional argument হয় সেক্ষেত্রে আপনি \\*args ব্যবহার করবেন । নিচে একটা উদাহরণ দেখেন তাহলে বিষয়টা পরিষ্কার হয়ে যাবে । "
   ]
  },
  {
   "cell_type": "code",
   "execution_count": 45,
   "metadata": {},
   "outputs": [
    {
     "name": "stdout",
     "output_type": "stream",
     "text": [
      "Normal argument is:  Language\n",
      "Argument pass by *argv is:  Python\n",
      "Argument pass by *argv is:  Java\n",
      "Argument pass by *argv is:  C/C++\n"
     ]
    }
   ],
   "source": [
    "def variable_lenghts_argument_function(normal_argument, *argv):\n",
    "    \n",
    "    print(\"Normal argument is: \", normal_argument)\n",
    "    \n",
    "    for argument in argv:\n",
    "        print(\"Argument pass by *argv is: \", argument)\n",
    "        \n",
    "variable_lenghts_argument_function(\"Language\", \"Python\", \"Java\", \"C/C++\")"
   ]
  },
  {
   "cell_type": "markdown",
   "metadata": {},
   "source": [
    "উপরে আমরা নর্মাল আরগুমেত বাদে ৩ টা আর্গুমেন্ট পাঠিয়েছি । আমরা \\*args দিয়ে N সংখ্যক আর্গুমেন্ট পাঠাতে পারব । "
   ]
  },
  {
   "cell_type": "markdown",
   "metadata": {},
   "source": [
    "###  \\*\\*kwargs এর ব্যবহার \n",
    "---\n",
    "আমাদের আর্গুমেন্ট গুলো positional argument না হয়ে যদি keyword argument হয় তাহলে আমাদের কে  \\*\\*kwargs ব্যবহার করতে হবে । নিচে একটা উদারহরন দেখি, "
   ]
  },
  {
   "cell_type": "code",
   "execution_count": 46,
   "metadata": {},
   "outputs": [
    {
     "name": "stdout",
     "output_type": "stream",
     "text": [
      "Argument pass by **kwargs is: age = 21\n",
      "Argument pass by **kwargs is: department = ETE\n",
      "Argument pass by **kwargs is: name = Arif\n"
     ]
    }
   ],
   "source": [
    "def test_kwargs_argument(**kwargs):\n",
    "    \n",
    "    for key, value in kwargs.items():\n",
    "        print(\"Argument pass by **kwargs is: %s = %s\" % (key, value))\n",
    "    \n",
    "test_kwargs_argument(name = \"Arif\", age = 21, department = \"ETE\") # call the function"
   ]
  },
  {
   "cell_type": "markdown",
   "metadata": {},
   "source": [
    "অর্থাৎ আমারা বলতে পারি  \\*\\*kwargs দিয়ে আমরা আর্গুমেন্টের ডিকশনারি কে কোন ফাংশনে পাস করতে পারি ।  \\*args ও \\*\\*kwargs আরও বিভিন্ন ভাবে ব্যবহার করা যায় নিচে তার কিছু উদাহরণ দেয়া হল, "
   ]
  },
  {
   "cell_type": "code",
   "execution_count": 47,
   "metadata": {},
   "outputs": [
    {
     "name": "stdout",
     "output_type": "stream",
     "text": [
      "Normal argument is:  Hello\n",
      "Argument pass by *argv is:  1\n",
      "Argument pass by *argv is:  2\n",
      "Argument pass by *argv is:  3\n"
     ]
    }
   ],
   "source": [
    "# using *args\n",
    "\n",
    "args = (\"Hello\", 1, 2, 3) # set the argument list\n",
    "variable_lenghts_argument_function(*args) # call the function with the argument"
   ]
  },
  {
   "cell_type": "code",
   "execution_count": 48,
   "metadata": {},
   "outputs": [
    {
     "name": "stdout",
     "output_type": "stream",
     "text": [
      "Argument pass by **kwargs is: age = 21\n",
      "Argument pass by **kwargs is: department = CSE\n",
      "Argument pass by **kwargs is: name = Arif\n"
     ]
    }
   ],
   "source": [
    "# using **kwargs\n",
    "\n",
    "kwargs = {\"name\" : \"Arif\", \"age\" : 21, \"department\" : \"CSE\"} # set argument.\n",
    "\n",
    "test_kwargs_argument(**kwargs) # call the function with the argument."
   ]
  },
  {
   "cell_type": "markdown",
   "metadata": {},
   "source": [
    "এখন আমরা যদি একই ফাংশনে \\*args, \\*\\*kwargs ব্যবহার করতে চাই তবে আমাদের কে একটা অর্ডার ফলো করতে হবে । যদি কোন নর্মাল আর্গুমেন্ট থাকে তবে সেটাকে প্রথমে রাখতে হবে, তারপর থাকবে \\*args এর পরে থাকবে \\*\\*kwargs\n",
    "\n",
    "> def my_function(normal_arg, \\*args, \\*\\*kwargs)"
   ]
  },
  {
   "cell_type": "markdown",
   "metadata": {},
   "source": [
    "এই সম্পর্কে আপনি আরও জানতে চাইলে পাইথনে অফিশিয়াল ওয়েবসাইট দেখতে পারেন । \n",
    "\n",
    "- [More on Defining Functions](https://docs.python.org/3/tutorial/controlflow.html)\n"
   ]
  }
 ],
 "metadata": {
  "kernelspec": {
   "display_name": "Python [conda root]",
   "language": "python",
   "name": "conda-root-py"
  },
  "language_info": {
   "codemirror_mode": {
    "name": "ipython",
    "version": 3
   },
   "file_extension": ".py",
   "mimetype": "text/x-python",
   "name": "python",
   "nbconvert_exporter": "python",
   "pygments_lexer": "ipython3",
   "version": "3.5.2"
  }
 },
 "nbformat": 4,
 "nbformat_minor": 2
}
