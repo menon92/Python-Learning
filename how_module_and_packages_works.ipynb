{
 "cells": [
  {
   "cell_type": "markdown",
   "metadata": {},
   "source": [
    "# পাইথন মডিউল এবং প্যাকেজ \n",
    "\n",
    "আজকে আমরা পাইথনের মডিউল ও প্যাকেজ সম্পর্কে জানার চেষ্টা করব । এবং এগুলো কিভাবে কাজ করে সেটা দেখব ।  আরও জানবো পাইথন কিভাবে তার মডিউল কে খুঁজে বের করে । \n",
    "\n",
    "## মডিউল কি ? \n",
    "\n",
    "যেকোনো সিঙ্গেল পাইথন ফাইল কে বলা হয় মডিউল । আমরা যেকোনো পাইথন ফাইল যেটা .py দিয়ে শেষ হয় সেটাকে আমরা যেকোনো পাইথন স্ক্রিপ্ট থেকে import করতে পারি । অনেক বড় প্রোগ্রাম কে ছোট ছোট অংশে ভাগ করার জন্য মডিউল আমাদের কে সাহায্য করে । \n",
    "\n",
    "মনে করি আমাদের arithmatic.py নামে একটা পাইথন ফাইল আছে । ফাইলটি আপনি এখন যে ডিরেক্টরিরে আছে সেই ডিরেক্টরিতেই থাকতে হবে । এবং এটার মধ্যে নিচের জিনিসগুলো আছে । "
   ]
  },
  {
   "cell_type": "code",
   "execution_count": 37,
   "metadata": {
    "collapsed": true
   },
   "outputs": [],
   "source": [
    "# create a file say arithmatic.py in the same directory \n",
    "# arithmatic.py file contains\n",
    "\n",
    "OPERATIONS = ['Add', 'Sub']\n",
    "\n",
    "def add(a, b):\n",
    "\treturn a + b\n",
    "\n",
    "def sub(a, b):\n",
    "\treturn a - b\n"
   ]
  },
  {
   "cell_type": "markdown",
   "metadata": {},
   "source": [
    "এখন আমি যদি একই ডিরেক্টরিতে থাকি তবে এই arithmatic.py ফাইল কে নিচের মত করে import করতে পারব । এবং এর ফাংশন ও ভারিয়েবল কে ব্যবহার করতে পারব । "
   ]
  },
  {
   "cell_type": "code",
   "execution_count": 38,
   "metadata": {},
   "outputs": [
    {
     "name": "stdout",
     "output_type": "stream",
     "text": [
      "['Add', 'Sub']\n"
     ]
    }
   ],
   "source": [
    "import arithmatic\n",
    "\n",
    "print(arithmatic.OPERATIONS)"
   ]
  },
  {
   "cell_type": "code",
   "execution_count": 39,
   "metadata": {},
   "outputs": [
    {
     "name": "stdout",
     "output_type": "stream",
     "text": [
      "12\n"
     ]
    }
   ],
   "source": [
    "from arithmatic import add\n",
    "\n",
    "print(add(2, 10))"
   ]
  },
  {
   "cell_type": "code",
   "execution_count": 40,
   "metadata": {},
   "outputs": [
    {
     "name": "stdout",
     "output_type": "stream",
     "text": [
      "200\n"
     ]
    }
   ],
   "source": [
    "import arithmatic as am\n",
    "\n",
    "print(am.sub(500, 300))"
   ]
  },
  {
   "cell_type": "markdown",
   "metadata": {},
   "source": [
    "## প্যাকেজ কি ? \n",
    "\n",
    "উপরে আমরা দেখলাম যে আমরা যদি কোন মডিউল কে অন্য একটা মডিউল থেকে import করতে চাই তবে মডিউল গুলো কে একই ডিরেক্টরিতে রাখতে হয় । এটা একটা সমস্যা । এই সমস্যা দূর করার জন্যই মূলত পাকেজিং সিস্টেম । এর মাধ্যমে আমরা আমাদের লেখা বিভিন্ন পাইথন মডিউল কে ভিন্ন ভিন্ন ডিরেক্টরির আন্ডারে রাখতে পারি । এবং সেগুলোকে আমাদের প্রয়োজন অনুসারে import করতে পারব । \n",
    "\n",
    "রিয়েল লাইফ সফটওয়্যারে আমারা দেখি যে বিভিন্ন .py ফাইল ভিন্ন ভিন্ন ডিরেক্টরিতে থাকে এবং সবগুলো জিনস আবার একটা রুট ডিরেক্টরিতে থাকে । আমাদের প্যাকেজ যদি ইন্সটল করা থাকে তবে আমরা যেকোনো জায়গা থেকে এটাকে import করতে পারি । \n",
    "\n",
    "** প্যাকেজের সংজ্ঞা এইভাবে দেয়া যেতে পারে, **\n",
    "\n",
    "   > প্যাকেজ হল একটা ডিরেক্টরি যেটা থেকে আমরা পাইথন মডিউল import করতে পারি ।  \n",
    "   \n",
    "## প্যাকেজ কিভবে তৈরি  করা যায় ?\n",
    "\n",
    "আগেই বলেছি প্যাকেজ হল এটা ডিরেক্টরি / ফোল্ডার । সুতরাং প্যাকেজ বানাতে হলে প্রথমে আপানকে একটা ডিরেক্টরি / ফোল্ডার বানাতে হবে । মনে করি আমরা gonit নামে একটা ডিরেক্টরি তৈরি করেছি ।  এখন পাইথন কে বোঝাতে হবে যে আমরা যে ডিরেক্টরি তৈরি করেছি সেটা কোন সাধারণ ডিরেক্টরি না এটা একটা পাইথন প্যাকেজ । এটা বোঝানোর জন্য আমাদের কে ওই gonit ডিরেক্টরি তে __init__.py নামে একটা ফাইল তৈরি করতে হবে ( এটা ফাঁকাও থাকতে পারে ) । নিচে একটা ডিরেক্টরির গঠন নিচে দেখানো হল । "
   ]
  },
  {
   "cell_type": "markdown",
   "metadata": {},
   "source": [
    "```python\n",
    "    gonit/\n",
    "        __init__.py\n",
    "        arithmatic.py\n",
    "```"
   ]
  },
  {
   "cell_type": "markdown",
   "metadata": {},
   "source": [
    "## পাকজে ও মডিউল থেকে import করা \n",
    "\n",
    "আমরা যদি উপরেই নিয়মে যদি প্যাকেজ বানায়ে থাকি তবে আমরা অনন্য প্যাকেজ যেভাবে import করে সেভাবেই import করতে পারব । আমদের বানানো প্যাকেজের জন্য import stement গুলো এই রকম হবে । "
   ]
  },
  {
   "cell_type": "code",
   "execution_count": 41,
   "metadata": {},
   "outputs": [
    {
     "name": "stdout",
     "output_type": "stream",
     "text": [
      "4\n",
      "-10\n"
     ]
    }
   ],
   "source": [
    "import gonit\n",
    "from gonit import arithmatic \n",
    "\n",
    "print(arithmatic.add(1, 3))\n",
    "print(arithmatic.sub(20, 30))"
   ]
  },
  {
   "cell_type": "code",
   "execution_count": 42,
   "metadata": {},
   "outputs": [
    {
     "name": "stdout",
     "output_type": "stream",
     "text": [
      "4\n",
      "-10\n"
     ]
    }
   ],
   "source": [
    "from gonit.arithmatic import add, sub\n",
    "\n",
    "print(arithmatic.add(1, 3))\n",
    "print(arithmatic.sub(20, 30))"
   ]
  },
  {
   "cell_type": "markdown",
   "metadata": {},
   "source": [
    "##  পাইথন কিভাবে মডিউল ও প্যাকেজ কে খুঁজে বের করে ? \n",
    "\n",
    "আমরা যখন কোন পাইথনের মডিউল বা প্যাকেজ কে import করি তখন পাইথন কে একটা বিষয় অবশ্যই জানতে হবে যে, পাইথন যে মডিউল বা প্যাকেজ কে import করতে চাচ্ছে সেটাকে সে কথাই খুঁজবে । বিশেষ কিছু ডিরেক্টরি আছে কোন কিছু import করলে পাইথন সেই বিশেষ ডিরেক্টরিতে মডিউল বা প্যাকেজ খুজতে থাকে । সেই বিশেষ ডিরেক্টরি গুলো হল, \n",
    "\n",
    "- ** The current directory. **\n",
    "- ** The site-packages folder যেখানে আপনার পাইথন ইন্সটল করা আছে । ** \n",
    "- ** In directories\tin the\tPYTHONPATH environment\tvariable. **\n",
    "\n",
    "আপনার পাইথন কোন প্যাকেজ বা মডিউল import করলে সেটা কোন কোন ডিরেক্টরি সার্চ করে সেটা দেখার জন্য নিচের কাজ টি করতে পারেন । আমার জন্য এই রকম অউটপুট আসে । আপনার জন্য অন্য রকম আসতে পারে ।  "
   ]
  },
  {
   "cell_type": "code",
   "execution_count": 43,
   "metadata": {},
   "outputs": [
    {
     "name": "stdout",
     "output_type": "stream",
     "text": [
      "Path is:  \n",
      "Path is:  /home/menon/anaconda3/lib/python35.zip\n",
      "Path is:  /home/menon/anaconda3/lib/python3.5\n",
      "Path is:  /home/menon/anaconda3/lib/python3.5/plat-linux\n",
      "Path is:  /home/menon/anaconda3/lib/python3.5/lib-dynload\n",
      "Path is:  /home/menon/anaconda3/lib/python3.5/site-packages\n",
      "Path is:  /home/menon/anaconda3/lib/python3.5/site-packages/Sphinx-1.5.1-py3.5.egg\n",
      "Path is:  /home/menon/anaconda3/lib/python3.5/site-packages/setuptools-27.2.0-py3.5.egg\n",
      "Path is:  /home/menon/anaconda3/lib/python3.5/site-packages/tflearn-0.3.2-py3.5.egg\n",
      "Path is:  /home/menon/anaconda3/lib/python3.5/site-packages/IPython/extensions\n",
      "Path is:  /home/menon/.ipython\n"
     ]
    }
   ],
   "source": [
    "import sys\n",
    "\n",
    "for path in sys.path:\n",
    "    print(\"Path is: \", path)"
   ]
  },
  {
   "cell_type": "markdown",
   "metadata": {},
   "source": [
    "** আজকে পর্যন্তই । এতক্ষণ কষ্ট করে পড়ার জন্য ধন্যবাদ :) ** "
   ]
  },
  {
   "cell_type": "code",
   "execution_count": null,
   "metadata": {
    "collapsed": true
   },
   "outputs": [],
   "source": []
  }
 ],
 "metadata": {
  "kernelspec": {
   "display_name": "Python [conda root]",
   "language": "python",
   "name": "conda-root-py"
  },
  "language_info": {
   "codemirror_mode": {
    "name": "ipython",
    "version": 3
   },
   "file_extension": ".py",
   "mimetype": "text/x-python",
   "name": "python",
   "nbconvert_exporter": "python",
   "pygments_lexer": "ipython3",
   "version": "3.5.2"
  }
 },
 "nbformat": 4,
 "nbformat_minor": 2
}
