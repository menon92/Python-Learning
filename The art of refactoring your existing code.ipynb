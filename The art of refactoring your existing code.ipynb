{
 "cells": [
  {
   "cell_type": "markdown",
   "metadata": {
    "slideshow": {
     "slide_type": "slide"
    }
   },
   "source": [
    "<h1 align=\"center\" style=\"color:green;font-size:40px;\">The Art of Refactoring Your Existing Code</h1>  \n",
    "<h2 align=\"center\" style=\"color:gray;font-size:35px;margin: 0;\">Mehadi Hasan Menon</h2>  \n",
    "<h3 align=\"center\" style=\"color:gray;font-size:30px;margin: 0;\">AI Engineer</h3>\n",
    "<h3 align=\"center\" style=\"color:gray;font-size:30px;margin: 0;\">Next Solution Lab</h3>\n",
    "<h5 align=\"center\" style=\"color:blue;font-size:25px;margin: 0;\">menon@nextsolutionlab.com</h5>  "
   ]
  },
  {
   "cell_type": "markdown",
   "metadata": {
    "slideshow": {
     "slide_type": "slide"
    }
   },
   "source": [
    "## Contents\n",
    "1. What is refactoring\n",
    "2. Why we need refactoring\n",
    "3. What evil about not refactored code\n",
    "4. Goal of refactoring\n",
    "5. Refactoring rules we cover with concrete example\n",
    "    - Extract method\n",
    "    - Replace magic numbers with symbolic constant\n",
    "    - Decompose conditionnal\n",
    "    - Indroduce explaining variable\n",
    "6. Conclution\n",
    "7. Reference\n",
    "8. Question and answer"
   ]
  },
  {
   "cell_type": "markdown",
   "metadata": {
    "slideshow": {
     "slide_type": "slide"
    }
   },
   "source": [
    "## Refactoring\n",
    "__Which one is looks better ?__\n",
    "![Refactoring](images/refactoring.png)\n"
   ]
  },
  {
   "cell_type": "markdown",
   "metadata": {
    "slideshow": {
     "slide_type": "slide"
    }
   },
   "source": [
    "## Refactoring | Defination\n",
    "`Improve the desing of a program without altering it's behavior`"
   ]
  },
  {
   "cell_type": "markdown",
   "metadata": {
    "slideshow": {
     "slide_type": "slide"
    }
   },
   "source": [
    "## Refactoring | Example\n",
    "__Let we want to filter even numbers from a list__\n",
    "```python\n",
    "numbers = [1, 2, 3, 4, 5, 6, 7, 8, 9, 10]\n",
    "# Solution - 1\n",
    "even_numbers = []\n",
    "for num in numbers:\n",
    "    if num % 2 == 0:\n",
    "        even_numbers.append(num)\n",
    "\n",
    "# Solution - 2\n",
    "# gen of python `flat is better then nested`\n",
    "even_numbers = [num for num in numbers if num % 2 == 0]\n",
    "```\n",
    "`Both solution perform the same taks but in different ways`"
   ]
  },
  {
   "cell_type": "markdown",
   "metadata": {
    "slideshow": {
     "slide_type": "slide"
    }
   },
   "source": [
    "# Why we need refactoring\n",
    "- We read code more then we write\n",
    "- There are may way to write code to implement one specefic behavior\n",
    "- But every way is the the best way to read and understand the code better"
   ]
  },
  {
   "cell_type": "markdown",
   "metadata": {
    "slideshow": {
     "slide_type": "slide"
    }
   },
   "source": [
    "![Image](images/what-evil-about-dead-code.jpg)"
   ]
  },
  {
   "cell_type": "markdown",
   "metadata": {
    "slideshow": {
     "slide_type": "slide"
    }
   },
   "source": [
    "## Goal of refactoring\n",
    "- Make software easier for a programmer to understand\n",
    "- Correcting common patter that make the code harder to read"
   ]
  },
  {
   "cell_type": "markdown",
   "metadata": {
    "slideshow": {
     "slide_type": "slide"
    }
   },
   "source": [
    "## Refactoring with concrete example"
   ]
  },
  {
   "cell_type": "markdown",
   "metadata": {
    "slideshow": {
     "slide_type": "slide"
    }
   },
   "source": [
    "## Let's we have\n",
    "- `Account` class\n",
    "- `Drive` class, that manipulate `Account` class"
   ]
  },
  {
   "cell_type": "code",
   "execution_count": 1,
   "metadata": {
    "cell_style": "center",
    "slideshow": {
     "slide_type": "slide"
    }
   },
   "outputs": [],
   "source": [
    "class Account:\n",
    "    '''defination of Account class'''\n",
    "    # defins flags for 4 different types of account\n",
    "    standard = 0\n",
    "    budget = 1\n",
    "    premium = 2\n",
    "    premium_plus = 3\n",
    "    \n",
    "    def __init__(self, principal, rate, days_active, account_type):\n",
    "        self.principal = principal\n",
    "        self.rate = rate\n",
    "        self.days_active = days_active\n",
    "        self.account_type = account_type\n",
    "\n",
    "class Drive:\n",
    "    def calculate_fee(self, accounts: list) -> int:\n",
    "        '''calculate fees for accounts'''\n",
    "        total_fee = 0\n",
    "        # iterate over all the accounts\n",
    "        for account in accounts:\n",
    "            # check account type\n",
    "            if account.account_type == Account.premium or \\\n",
    "                account.account_type == Account.premium_plus:\n",
    "                # calculate fee\n",
    "                total_fee += 0.0125 * (account.principal * math.exp(\n",
    "                    account.rate * (account.days_active / 365)) - account.principal)\n",
    "        return total_fee"
   ]
  },
  {
   "cell_type": "markdown",
   "metadata": {
    "slideshow": {
     "slide_type": "slide"
    }
   },
   "source": [
    "## Concrete example | Extract method"
   ]
  },
  {
   "cell_type": "markdown",
   "metadata": {
    "cell_style": "center",
    "slideshow": {
     "slide_type": "slide"
    }
   },
   "source": [
    "\n",
    "## What is the problem with above code ?\n"
   ]
  },
  {
   "cell_type": "markdown",
   "metadata": {
    "slideshow": {
     "slide_type": "slide"
    }
   },
   "source": [
    "Perpose of calculation perform in line `25-29` is not clear\n",
    "```python\n",
    "total_fee += 0.0125 * (account.principal * math.exp(\n",
    "    account.rate * (account.days_active / 365)) - account.principal)\n",
    "```"
   ]
  },
  {
   "cell_type": "markdown",
   "metadata": {
    "slideshow": {
     "slide_type": "slide"
    }
   },
   "source": [
    "## What was actual perpose of  line `25-29` calculation ?\n",
    "`Interest calculation` to figure out how much interest was earn on the account\n",
    "```python\n",
    "total_fee += 0.0125 * (account.principal * math.exp(\n",
    "    account.rate * (account.days_active / 365)) - account.principal)\n",
    "```"
   ]
  },
  {
   "cell_type": "markdown",
   "metadata": {
    "slideshow": {
     "slide_type": "slide"
    }
   },
   "source": [
    "## How do we refactor this for better understanding  the code ?\n",
    "- Add a new methdo to `Account` class\n",
    "- Use `extract method` rules"
   ]
  },
  {
   "cell_type": "markdown",
   "metadata": {
    "slideshow": {
     "slide_type": "slide"
    }
   },
   "source": [
    "## Effect of`Extract Method` in line 25\n",
    "- Add a method named `interest_earned` in `Account` class\n",
    "- Remove interest calculation from `calculate_fee` method \n",
    "- Use `interest_earned` method inside `calculate_fee` method\n",
    "```python\n",
    "total_fee += 0.0125 * (account.principal * math.exp(\n",
    "    account.rate * (account.days_active / 365)) - account.principal)\n",
    "```\n",
    "__Change to__\n",
    "```python\n",
    "def interest_earned(self):\n",
    "    return (self.principal * math.exp(\n",
    "        self.rate * (self.days_active / 365))) - self.principal\n",
    "```"
   ]
  },
  {
   "cell_type": "code",
   "execution_count": 2,
   "metadata": {
    "slideshow": {
     "slide_type": "slide"
    }
   },
   "outputs": [],
   "source": [
    "class Account:\n",
    "    '''defination of Account class'''\n",
    "    # defins flags for 4 different types of account\n",
    "    standard = 0\n",
    "    budget = 1\n",
    "    premium = 2\n",
    "    premium_plus = 3\n",
    "    \n",
    "    def __init__(self, principal, rate, days_active, account_type):\n",
    "        self.principal = principal\n",
    "        self.rate = rate\n",
    "        self.days_active = days_active\n",
    "        self.account_type = account_type\n",
    "    \n",
    "    def interest_earned(self):\n",
    "        return (self.principal * math.exp(\n",
    "            self.rate * (self.days_active / 365))) - self.principal\n",
    "class Drive:\n",
    "    def calculate_fee(self, accounts: list) -> int:\n",
    "        '''calculate fees for accounts'''\n",
    "        total_fee = 0\n",
    "        for account in accounts:\n",
    "            if account.account_type == Account.premium or \\\n",
    "                account.account_type == Account.premium_plus:\n",
    "                # use `Account` class `interest_earned` method\n",
    "                total_fee += 0.0125 * account.interest_earned()\n",
    "        return total_fee"
   ]
  },
  {
   "cell_type": "markdown",
   "metadata": {
    "slideshow": {
     "slide_type": "slide"
    }
   },
   "source": [
    "## Concrete example | Repace magic number with symbolic constant"
   ]
  },
  {
   "cell_type": "markdown",
   "metadata": {
    "slideshow": {
     "slide_type": "slide"
    }
   },
   "source": [
    "## Now what the number `0.0125 in line 24` ? \n",
    "```python\n",
    "total_fee += 0.0125 * account.interest_earned()\n",
    "```\n",
    "Percentage of `earned commision fee` by account holder"
   ]
  },
  {
   "cell_type": "markdown",
   "metadata": {
    "slideshow": {
     "slide_type": "slide"
    }
   },
   "source": [
    "## Let's assign a meaningfull name to this magic number\n",
    "```python\n",
    "broker_fee_percent = 0.0125\n",
    "```\n",
    "__And perform__\n",
    "```python\n",
    "total_fee += Drive.broker_fee_percent * account.interest_earned()\n",
    "```"
   ]
  },
  {
   "cell_type": "code",
   "execution_count": 3,
   "metadata": {
    "slideshow": {
     "slide_type": "slide"
    }
   },
   "outputs": [],
   "source": [
    "class Account:\n",
    "    '''defination of Account class'''\n",
    "    # defins flags for 4 different types of account\n",
    "    standard = 0\n",
    "    budget = 1\n",
    "    premium = 2\n",
    "    premium_plus = 3\n",
    "    \n",
    "    def __init__(self, principal, rate, days_active, account_type):\n",
    "        self.principal = principal\n",
    "        self.rate = rate\n",
    "        self.days_active = days_active\n",
    "        self.account_type = account_type\n",
    "    \n",
    "    def interest_earned(self):\n",
    "        return (self.principal * math.exp(\n",
    "            self.rate * (self.days_active / 365))) - self.principal\n",
    "class Drive:\n",
    "    broker_fee_percent = 0.0125\n",
    "    \n",
    "    def calculate_fee(self, accounts: list) -> int:\n",
    "        '''calculate fees for accounts'''\n",
    "        total_fee = 0\n",
    "        for account in accounts:\n",
    "            if account.account_type == Account.premium or \\\n",
    "                account.account_type == Account.premium_plus:\n",
    "                total_fee += Drive.broker_fee_percent * account.interest_earned()\n",
    "        return total_fee"
   ]
  },
  {
   "cell_type": "markdown",
   "metadata": {
    "slideshow": {
     "slide_type": "slide"
    }
   },
   "source": [
    "## Concrete example | Decompose conditional"
   ]
  },
  {
   "cell_type": "markdown",
   "metadata": {
    "slideshow": {
     "slide_type": "slide"
    }
   },
   "source": [
    "## What is perpose of account checking in line `25-26` ?\n",
    "```python\n",
    "if account.account_type == Account.premium or \\\n",
    "    account.account_type == Account.premium_plus:\n",
    "```\n",
    "- Threre are several account type\n",
    "- Fee only applicable for premium category account"
   ]
  },
  {
   "cell_type": "markdown",
   "metadata": {
    "slideshow": {
     "slide_type": "slide"
    }
   },
   "source": [
    "## Let's use `decompose conditional` to make it more readable\n",
    "Adding a method `is_premium` in `Account` class to check a account typs is premium or not\n",
    "```python\n",
    "def is_premium(self):\n",
    "    if self.account_type == Account.premium or \\\n",
    "        self.account_type == Account.premium_plus:\n",
    "        return True\n",
    "    return False\n",
    "```"
   ]
  },
  {
   "cell_type": "code",
   "execution_count": 4,
   "metadata": {
    "slideshow": {
     "slide_type": "slide"
    }
   },
   "outputs": [],
   "source": [
    "class Account:\n",
    "    '''defination of Account class'''\n",
    "    # defins flags for 4 different types of account\n",
    "    standard = 0\n",
    "    budget = 1\n",
    "    premium = 2\n",
    "    premium_plus = 3\n",
    "    \n",
    "    def __init__(self, principal, rate, days_active, account_type):\n",
    "        self.principal = principal\n",
    "        self.rate = rate\n",
    "        self.days_active = days_active\n",
    "        self.account_type = account_type\n",
    "    \n",
    "    def interest_earned(self):\n",
    "        return (self.principal * math.exp(\n",
    "            self.rate * (self.days_active / 365))) - self.principal\n",
    "    \n",
    "    def is_premium(self):\n",
    "        if self.account_type == Account.premium or \\\n",
    "            self.account_type == Account.premium_plus:\n",
    "            return True\n",
    "        return False\n",
    "        \n",
    "class Drive:\n",
    "    broker_fee_percent = 0.0125\n",
    "    \n",
    "    def calculate_fee(self, accounts: list) -> int:\n",
    "        '''calculate fees for accounts'''\n",
    "        total_fee = 0\n",
    "        for account in accounts:\n",
    "            if account.is_premium(): # decompose conditional\n",
    "                total_fee += Drive.broker_fee_percent * account.interest_earned()\n",
    "        return total_fee"
   ]
  },
  {
   "cell_type": "markdown",
   "metadata": {
    "slideshow": {
     "slide_type": "slide"
    }
   },
   "source": [
    "## Concrete example | Explaining variable"
   ]
  },
  {
   "cell_type": "markdown",
   "metadata": {
    "slideshow": {
     "slide_type": "slide"
    }
   },
   "source": [
    "## Do you seen any readability issue in this code ? \n",
    "```python\n",
    "def interest_earned(self):\n",
    "    return (self.principal * math.exp(\n",
    "        self.rate * (self.days_active / 365))) - self.principal\n",
    "```\n",
    "- Confusing calculation\n",
    "- Intermediate steps in a single line\n",
    "- Why division by 365\n",
    "- Why we subtract by `self.principal`"
   ]
  },
  {
   "cell_type": "markdown",
   "metadata": {
    "slideshow": {
     "slide_type": "slide"
    }
   },
   "source": [
    "## Can we improve readability in `interest_earned` method of `Account` class?\n",
    "- Yes\n",
    "- Breakdown the complex calculation\n",
    "- Assing meaning full name to each small calculation\n",
    "\n",
    "```python\n",
    "def interest_earned(self):\n",
    "    years = self.days_active / 365\n",
    "    compound_interest = self.principal * math.exp(self.rate * years)\n",
    "    interest = compound_interest - self.principal\n",
    "    return interest\n",
    "``` "
   ]
  },
  {
   "cell_type": "code",
   "execution_count": 5,
   "metadata": {
    "slideshow": {
     "slide_type": "slide"
    }
   },
   "outputs": [],
   "source": [
    "class Account:\n",
    "    '''defination of Account class'''\n",
    "    # defins flags for 4 different types of account\n",
    "    standard = 0\n",
    "    budget = 1\n",
    "    premium = 2\n",
    "    premium_plus = 3\n",
    "    \n",
    "    def __init__(self, principal, rate, days_active, account_type):\n",
    "        self.principal = principal\n",
    "        self.rate = rate\n",
    "        self.days_active = days_active\n",
    "        self.account_type = account_type\n",
    "    \n",
    "    def interest_earned(self):\n",
    "        years = self.days_active / 365\n",
    "        compound_interest = self.principal * math.exp(self.rate * years)\n",
    "        interest = compound_interest - self.principal\n",
    "        return interest\n",
    "    \n",
    "    def is_premium(self):\n",
    "        if self.account_type == Account.premium or \\\n",
    "            self.account_type == Account.premium_plus:\n",
    "            return True\n",
    "        return False\n",
    "        \n",
    "class Drive:\n",
    "    broker_fee_percent = 0.0125\n",
    "    \n",
    "    def calculate_fee(self, accounts: list) -> int:\n",
    "        '''calculate fees for accounts'''\n",
    "        total_fee = 0\n",
    "        for account in accounts:\n",
    "            if account.is_premium(): # decompose conditional\n",
    "                total_fee += Drive.broker_fee_percent * account.interest_earned()\n",
    "        return total_fee"
   ]
  },
  {
   "cell_type": "markdown",
   "metadata": {
    "slideshow": {
     "slide_type": "slide"
    }
   },
   "source": [
    "## Let's seen difference between `initial code` and `final refactored code`"
   ]
  },
  {
   "cell_type": "code",
   "execution_count": 6,
   "metadata": {
    "cell_style": "split",
    "slideshow": {
     "slide_type": "-"
    }
   },
   "outputs": [],
   "source": [
    "class Account:\n",
    "    '''defination of Account class'''\n",
    "    # defins flags for 4 different types of account\n",
    "    standard = 0\n",
    "    budget = 1\n",
    "    premium = 2\n",
    "    premium_plus = 3\n",
    "    \n",
    "    def __init__(self, principal, rate, days_active, account_type):\n",
    "        self.principal = principal\n",
    "        self.rate = rate\n",
    "        self.days_active = days_active\n",
    "        self.account_type = account_type\n",
    "\n",
    "class Drive:\n",
    "    def calculate_fee(self, accounts: list) -> int:\n",
    "        '''calculate fees for accounts'''\n",
    "        total_fee = 0\n",
    "        for account in accounts:\n",
    "            if account.account_type == Account.premium or \\\n",
    "                account.account_type == Account.premium_plus:\n",
    "                total_fee += 0.0125 * (account.principal * math.exp(\n",
    "                    account.rate * (account.days_active / 365)) - account.principal)\n",
    "        return total_fee\n",
    "    \n",
    "# We can see thre are 24 lines code in our initial code\n",
    "# On the other hand our final refactored code has 36 lines of code\n",
    "\n",
    "# But refactored code is more readiable compare to initial source code\n",
    "\n",
    "\n",
    "\n",
    "\n",
    "\n",
    "\n",
    "\n"
   ]
  },
  {
   "cell_type": "code",
   "execution_count": 7,
   "metadata": {
    "cell_style": "split",
    "slideshow": {
     "slide_type": "-"
    }
   },
   "outputs": [],
   "source": [
    "class Account:\n",
    "    '''defination of Account class'''\n",
    "    # defins flags for 4 different types of account\n",
    "    standard = 0\n",
    "    budget = 1\n",
    "    premium = 2\n",
    "    premium_plus = 3\n",
    "    \n",
    "    def __init__(self, principal, rate, days_active, account_type):\n",
    "        self.principal = principal\n",
    "        self.rate = rate\n",
    "        self.days_active = days_active\n",
    "        self.account_type = account_type\n",
    "    \n",
    "    def interest_earned(self):\n",
    "        years = self.days_active / 365\n",
    "        compound_interest = self.principal * math.exp(self.rate * years)\n",
    "        interest = compound_interest - self.principal\n",
    "        return interest\n",
    "    \n",
    "    def is_premium(self):\n",
    "        if self.account_type == Account.premium or \\\n",
    "            self.account_type == Account.premium_plus:\n",
    "            return True\n",
    "        return False\n",
    "        \n",
    "class Drive:\n",
    "    broker_fee_percent = 0.0125\n",
    "    \n",
    "    def calculate_fee(self, accounts: list) -> int:\n",
    "        '''calculate fees for accounts'''\n",
    "        total_fee = 0\n",
    "        for account in accounts:\n",
    "            if account.is_premium(): # decompose conditional\n",
    "                total_fee += Drive.broker_fee_percent * account.interest_earned()\n",
    "        return total_fee\n",
    "    "
   ]
  },
  {
   "cell_type": "markdown",
   "metadata": {
    "slideshow": {
     "slide_type": "slide"
    }
   },
   "source": [
    "## Conclution\n",
    "There are some other refactoring criterion,\n",
    "\n",
    "- [Organizing data](https://www.refactoring.com/catalog/?filter=tags-organizing-data)\n",
    "- [Moving features](https://www.refactoring.com/catalog/?filter=tags-moving-features)\n",
    "- [Refactoring apis](https://www.refactoring.com/catalog/?filter=tags-refactoring-apis)\n",
    "- [Grouping functions](https://www.refactoring.com/catalog/?filter=tags-grouping-function)\n",
    "- [Dealing with inheritance](https://www.refactoring.com/catalog/?filter=tags-dealing-with-inheritance)\n",
    "\n",
    "Check the complete catelog with code example in [catalog](https://www.refactoring.com/catalog/)"
   ]
  },
  {
   "cell_type": "markdown",
   "metadata": {
    "slideshow": {
     "slide_type": "slide"
    }
   },
   "source": [
    "## References\n",
    "- [Applied Software Project Management - Chapter - Design and Program](https://www.oreilly.com/library/view/applied-software-project/0596009488/)\n",
    "- [Refactoring catelog](https://www.refactoring.com/catalog/)\n",
    "- [Create presentation using raise notebook plagin](https://rise.readthedocs.io/en/stable/installation.html)\n",
    "- [Tips for slide show in jupyter](https://www.markroepke.me/posts/2019/06/05/tips-for-slideshows-in-jupyter.html)"
   ]
  },
  {
   "cell_type": "markdown",
   "metadata": {
    "slideshow": {
     "slide_type": "slide"
    }
   },
   "source": [
    "![Question & Answer](images/qa.jpg)"
   ]
  }
 ],
 "metadata": {
  "celltoolbar": "Slideshow",
  "kernelspec": {
   "display_name": "Python 3",
   "language": "python",
   "name": "python3"
  },
  "language_info": {
   "codemirror_mode": {
    "name": "ipython",
    "version": 3
   },
   "file_extension": ".py",
   "mimetype": "text/x-python",
   "name": "python",
   "nbconvert_exporter": "python",
   "pygments_lexer": "ipython3",
   "version": "3.7.6"
  }
 },
 "nbformat": 4,
 "nbformat_minor": 4
}
