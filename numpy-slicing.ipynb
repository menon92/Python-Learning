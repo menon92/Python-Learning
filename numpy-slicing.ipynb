{
 "cells": [
  {
   "cell_type": "code",
   "execution_count": 5,
   "metadata": {},
   "outputs": [
    {
     "name": "stdout",
     "output_type": "stream",
     "text": [
      "(6, 6)\n",
      "[[ 1  2  3  4  5  6]\n",
      " [ 7  8  9 10 11 12]\n",
      " [13 14 15 16 17 18]\n",
      " [19 20 21 22 23 24]\n",
      " [25 26 27 28 29 30]\n",
      " [31 32 33 34 34 35]]\n"
     ]
    }
   ],
   "source": [
    "import numpy as np\n",
    "\n",
    "a = np.array([[1, 2, 3, 4, 5, 6], [7, 8, 9, 10, 11, 12], [13, 14, 15, 16, 17, 18], \n",
    "          [19, 20, 21, 22, 23, 24], [25, 26, 27, 28, 29, 30], [31, 32, 33, 34, 34, 35]])\n",
    "\n",
    "print(a.shape)\n",
    "print(a)\n",
    "# numpy is 0 indexed"
   ]
  },
  {
   "cell_type": "code",
   "execution_count": 9,
   "metadata": {},
   "outputs": [
    {
     "name": "stdout",
     "output_type": "stream",
     "text": [
      "[[ 7  8  9 10 11 12]\n",
      " [13 14 15 16 17 18]\n",
      " [19 20 21 22 23 24]\n",
      " [25 26 27 28 29 30]]\n"
     ]
    }
   ],
   "source": [
    "take_row = a[1 : 5] # keep 1 to 4'th row\n",
    "print(ex_row)"
   ]
  },
  {
   "cell_type": "code",
   "execution_count": 10,
   "metadata": {},
   "outputs": [
    {
     "name": "stdout",
     "output_type": "stream",
     "text": [
      "[[ 3  4]\n",
      " [ 9 10]\n",
      " [15 16]\n",
      " [21 22]\n",
      " [27 28]\n",
      " [33 34]]\n"
     ]
    }
   ],
   "source": [
    "take_col = a[:, 2 : 4] # keep 2nd to 3rd column\n",
    "print(ex_col)"
   ]
  },
  {
   "cell_type": "code",
   "execution_count": 12,
   "metadata": {},
   "outputs": [
    {
     "name": "stdout",
     "output_type": "stream",
     "text": [
      "[[ 9 10]\n",
      " [15 16]\n",
      " [21 22]\n",
      " [27 28]]\n"
     ]
    }
   ],
   "source": [
    "take_row_col = a[1:5, 2 : 4] # keep 1 to 4 row and 2 to 3 col\n",
    "print(take_row_col)"
   ]
  },
  {
   "cell_type": "code",
   "execution_count": 20,
   "metadata": {},
   "outputs": [
    {
     "name": "stdout",
     "output_type": "stream",
     "text": [
      "[[ 1]\n",
      " [ 7]\n",
      " [13]\n",
      " [19]\n",
      " [25]\n",
      " [31]]\n",
      "96\n",
      "[[ 2]\n",
      " [ 8]\n",
      " [14]\n",
      " [20]\n",
      " [26]\n",
      " [32]]\n",
      "[[ 3]\n",
      " [ 9]\n",
      " [15]\n",
      " [21]\n",
      " [27]\n",
      " [33]]\n"
     ]
    }
   ],
   "source": [
    "# access i'th column\n",
    "print(a[:,:1])  # 1's column\n",
    "print(np.sum(a[:,:1]))\n",
    "\n",
    "print(a[:,1:2]) # 2nd column\n",
    "print(a[:,2:3]) # 3rd column"
   ]
  },
  {
   "cell_type": "code",
   "execution_count": 32,
   "metadata": {},
   "outputs": [
    {
     "name": "stdout",
     "output_type": "stream",
     "text": [
      "[[ 1]\n",
      " [ 7]\n",
      " [13]\n",
      " [19]\n",
      " [25]\n",
      " [31]]\n",
      "[[ 2]\n",
      " [ 8]\n",
      " [14]\n",
      " [20]\n",
      " [26]\n",
      " [32]]\n",
      "[[ 3]\n",
      " [ 9]\n",
      " [15]\n",
      " [21]\n",
      " [27]\n",
      " [33]]\n"
     ]
    }
   ],
   "source": [
    "print (a[:,[0]]) # 0 = col index\n",
    "print (a[:,[1]]) # 1 = col index\n",
    "print (a[:,[2]]) # 2 = col index"
   ]
  },
  {
   "cell_type": "code",
   "execution_count": null,
   "metadata": {
    "collapsed": true
   },
   "outputs": [],
   "source": []
  }
 ],
 "metadata": {
  "kernelspec": {
   "display_name": "Python 3",
   "language": "python",
   "name": "python3"
  },
  "language_info": {
   "codemirror_mode": {
    "name": "ipython",
    "version": 3
   },
   "file_extension": ".py",
   "mimetype": "text/x-python",
   "name": "python",
   "nbconvert_exporter": "python",
   "pygments_lexer": "ipython3",
   "version": "3.6.3"
  }
 },
 "nbformat": 4,
 "nbformat_minor": 2
}
