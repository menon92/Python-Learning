{
 "cells": [
  {
   "cell_type": "markdown",
   "metadata": {},
   "source": [
    "# পাইথনে আন্ডারস্কোর ক্যারেক্টার\n",
    "\n",
    "আজকে আমরা _ ক্যারেক্টারের ব্যবহার দেখব । _ এর আলাদা আলাদা ব্যবহার বেশিভাগ ক্ষেত্রে মূলত naming convension এ ব্যবহার হয়ে থাকে । এটা ছাড়াও এর আরও কিছু ব্যবহার আছে সেগুলো আমরা ধীরে ধীরে দেখব । প্রথমে আমরা সিঙ্গেল আন্ডারস্কোর এর ব্যবহার দেখব । \n",
    "\n",
    "## সিঙ্গেল আন্ডারস্কোর ( _ )\n",
    "\n",
    "এটা কে আপনি অব্যবহিত ভেরিয়েবল হিসাবে ব্যবহার করতে পারবেন । মনে করেন আপনার একটা লুপ আছে । আপনার সেই লুপের যে counter ভেরিয়েবল আছে সেটা আপনার সবসময় কাজে নাও লাগতে পারে । উদাহরণ,  "
   ]
  },
  {
   "cell_type": "code",
   "execution_count": null,
   "metadata": {},
   "outputs": [],
   "source": [
    "for counter in range(100):\n",
    "    do_some_taks()"
   ]
  },
  {
   "cell_type": "markdown",
   "metadata": {},
   "source": [
    "উপরে আমাদের যে ফর লুপ আছে সেখানে কিন্তু counter এর কোন দরকার হচ্ছে না । তাই এটা কে আমরা নিচের মত করে লিখে পারি "
   ]
  },
  {
   "cell_type": "code",
   "execution_count": null,
   "metadata": {
    "collapsed": true
   },
   "outputs": [],
   "source": [
    "for _ in range(100):\n",
    "    do_dome_taks()"
   ]
  },
  {
   "cell_type": "markdown",
   "metadata": {},
   "source": [
    "লক্ষ করেন এখানে আমরা counter এর বদলে _ ব্যবহার করেছি । \n",
    "\n",
    "## কোন নামের পূর্বে যখন সিঙ্গেল আন্ডারস্কোর ব্যবহার করা হয় \n",
    "\n",
    "কোন নামের পূর্বে _ ব্যবহার করা হয় তখন সেটা প্রাইভেট হিসাবে বিবেচিত হবে । যদিও এটা import করে ব্যবহার করা যাবে তারপরও এটা দেয়া হয় convension এর জন্য । অন্য প্রোগ্রামার যখন আপনার এই কোড পড়বে তখন _ দেখে বুঝবে যে এটা একটা প্রাইভেট জিনিস । এটাকে ইন্টারনাল কাজের জন্য ব্যবহার করা হয়েছে । \n",
    "\n",
    "[ See the private variable in python ](https://docs.python.org/3.4/tutorial/classes.html#tut-private)"
   ]
  },
  {
   "cell_type": "code",
   "execution_count": null,
   "metadata": {
    "collapsed": true
   },
   "outputs": [],
   "source": []
  }
 ],
 "metadata": {
  "kernelspec": {
   "display_name": "Python [conda root]",
   "language": "python",
   "name": "conda-root-py"
  },
  "language_info": {
   "codemirror_mode": {
    "name": "ipython",
    "version": 3
   },
   "file_extension": ".py",
   "mimetype": "text/x-python",
   "name": "python",
   "nbconvert_exporter": "python",
   "pygments_lexer": "ipython3",
   "version": "3.5.2"
  }
 },
 "nbformat": 4,
 "nbformat_minor": 2
}
